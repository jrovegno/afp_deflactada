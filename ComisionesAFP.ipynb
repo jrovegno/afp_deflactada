{
 "cells": [
  {
   "cell_type": "code",
   "execution_count": 1,
   "metadata": {
    "collapsed": true
   },
   "outputs": [],
   "source": [
    "import os\n",
    "import time\n",
    "import pandas as pd\n",
    "import matplotlib.pyplot as plt\n",
    "from datetime import datetime\n",
    "%matplotlib inline"
   ]
  },
  {
   "cell_type": "code",
   "execution_count": 2,
   "metadata": {
    "collapsed": true
   },
   "outputs": [],
   "source": [
    "update_all = False\n",
    "update = True\n",
    "karg_csvr = dict(sep=';', decimal=',', index_col='date', parse_dates=True)\n",
    "\n",
    "if os.path.isfile('comisiones/comisiones.csv'):\n",
    "    df_old = pd.read_csv('comisiones/comisiones.csv', **karg_csvr)\n",
    "    last_old = df_old.index[-1].strftime(\"%Y-%m-%d\")\n",
    "else:\n",
    "    last_old = '1981-06-30'\n",
    "\n",
    "inicio = '1981-06-30' if update_all else last_old\n",
    "fin = datetime.now()"
   ]
  },
  {
   "cell_type": "code",
   "execution_count": 3,
   "metadata": {
    "scrolled": false
   },
   "outputs": [],
   "source": [
    "if update:\n",
    "    # Descargar datos de comisiones (Lento)\n",
    "    rng = pd.date_range(start=inicio, end=fin, freq='MS')\n",
    "    dfs = []\n",
    "    for day in rng:\n",
    "        url = 'http://www.safp.cl/safpstats/stats/apps/estcom/estcom.php?fecha=%s'%day.strftime(\"%Y%m%d\")\n",
    "        aux = pd.read_html(url)\n",
    "        # Por depósito de cotizaciones\n",
    "        # aux[20].iloc[2:,0:2]\n",
    "        # Por retiros programados y renta temporal\n",
    "        # aux[23].iloc[2:,0:2]\n",
    "        # Por transferencia de cotizaciones de afiliado voluntario\n",
    "        # aux[25].iloc[2:-1,0:2]\n",
    "        df = aux[19].loc[3:8,0:1]\n",
    "        df['date'] = day\n",
    "        dfs.append(df.pivot(index='date', columns=0, values=1))\n",
    "        time.sleep(1)\n",
    "    # Concatena datos descargados\n",
    "    df_s = pd.concat(dfs)\n",
    "    if df_s.columns.contains(u'(*)'):\n",
    "        df_s.drop(labels=[u'(*)'], axis=1, inplace=True)\n",
    "    df_new = df_s.apply(pd.to_numeric, errors='coerce').div(100.)\n",
    "    df = pd.concat([df_old, df_new])\n",
    "    # Remove duplicate index\n",
    "    df = df[~df.index.duplicated(keep='last')]\n",
    "    # Opciones lectura y escritura de archivos csv compatibles con excel spanish\n",
    "    karg_csvw = dict(sep=';', decimal=',')\n",
    "    df.to_csv('comisiones/comisiones.csv', **karg_csvw)\n",
    "else:\n",
    "    df = pd.read_csv('comisiones/comisiones.csv', **karg_csvr)"
   ]
  },
  {
   "cell_type": "code",
   "execution_count": 4,
   "metadata": {},
   "outputs": [
    {
     "data": {
      "text/html": [
       "<div>\n",
       "<style>\n",
       "    .dataframe thead tr:only-child th {\n",
       "        text-align: right;\n",
       "    }\n",
       "\n",
       "    .dataframe thead th {\n",
       "        text-align: left;\n",
       "    }\n",
       "\n",
       "    .dataframe tbody tr th {\n",
       "        vertical-align: top;\n",
       "    }\n",
       "</style>\n",
       "<table border=\"1\" class=\"dataframe\">\n",
       "  <thead>\n",
       "    <tr style=\"text-align: right;\">\n",
       "      <th></th>\n",
       "      <th>CAPITAL</th>\n",
       "      <th>CUPRUM</th>\n",
       "      <th>HABITAT</th>\n",
       "      <th>MODELO</th>\n",
       "      <th>PLANVITAL</th>\n",
       "      <th>PROVIDA</th>\n",
       "    </tr>\n",
       "    <tr>\n",
       "      <th>date</th>\n",
       "      <th></th>\n",
       "      <th></th>\n",
       "      <th></th>\n",
       "      <th></th>\n",
       "      <th></th>\n",
       "      <th></th>\n",
       "    </tr>\n",
       "  </thead>\n",
       "  <tbody>\n",
       "    <tr>\n",
       "      <th>2016-07-01</th>\n",
       "      <td>0.0144</td>\n",
       "      <td>0.0148</td>\n",
       "      <td>0.0127</td>\n",
       "      <td>0.0077</td>\n",
       "      <td>0.0047</td>\n",
       "      <td>0.0154</td>\n",
       "    </tr>\n",
       "    <tr>\n",
       "      <th>2016-08-01</th>\n",
       "      <td>0.0144</td>\n",
       "      <td>0.0148</td>\n",
       "      <td>0.0127</td>\n",
       "      <td>0.0077</td>\n",
       "      <td>0.0041</td>\n",
       "      <td>0.0154</td>\n",
       "    </tr>\n",
       "    <tr>\n",
       "      <th>2016-09-01</th>\n",
       "      <td>0.0144</td>\n",
       "      <td>0.0148</td>\n",
       "      <td>0.0127</td>\n",
       "      <td>0.0077</td>\n",
       "      <td>0.0041</td>\n",
       "      <td>0.0154</td>\n",
       "    </tr>\n",
       "    <tr>\n",
       "      <th>2016-10-01</th>\n",
       "      <td>0.0144</td>\n",
       "      <td>0.0148</td>\n",
       "      <td>0.0127</td>\n",
       "      <td>0.0077</td>\n",
       "      <td>0.0041</td>\n",
       "      <td>0.0154</td>\n",
       "    </tr>\n",
       "    <tr>\n",
       "      <th>2016-11-01</th>\n",
       "      <td>0.0144</td>\n",
       "      <td>0.0148</td>\n",
       "      <td>0.0127</td>\n",
       "      <td>0.0077</td>\n",
       "      <td>0.0041</td>\n",
       "      <td>0.0154</td>\n",
       "    </tr>\n",
       "    <tr>\n",
       "      <th>2016-12-01</th>\n",
       "      <td>0.0144</td>\n",
       "      <td>0.0148</td>\n",
       "      <td>0.0127</td>\n",
       "      <td>0.0077</td>\n",
       "      <td>0.0041</td>\n",
       "      <td>0.0154</td>\n",
       "    </tr>\n",
       "    <tr>\n",
       "      <th>2017-01-01</th>\n",
       "      <td>0.0144</td>\n",
       "      <td>0.0148</td>\n",
       "      <td>0.0127</td>\n",
       "      <td>0.0077</td>\n",
       "      <td>0.0041</td>\n",
       "      <td>0.0154</td>\n",
       "    </tr>\n",
       "    <tr>\n",
       "      <th>2017-02-01</th>\n",
       "      <td>0.0144</td>\n",
       "      <td>0.0148</td>\n",
       "      <td>0.0127</td>\n",
       "      <td>0.0077</td>\n",
       "      <td>0.0041</td>\n",
       "      <td>0.0154</td>\n",
       "    </tr>\n",
       "    <tr>\n",
       "      <th>2017-03-01</th>\n",
       "      <td>0.0144</td>\n",
       "      <td>0.0148</td>\n",
       "      <td>0.0127</td>\n",
       "      <td>0.0077</td>\n",
       "      <td>0.0041</td>\n",
       "      <td>0.0154</td>\n",
       "    </tr>\n",
       "    <tr>\n",
       "      <th>2017-04-01</th>\n",
       "      <td>0.0144</td>\n",
       "      <td>0.0148</td>\n",
       "      <td>0.0127</td>\n",
       "      <td>0.0077</td>\n",
       "      <td>0.0041</td>\n",
       "      <td>0.0154</td>\n",
       "    </tr>\n",
       "    <tr>\n",
       "      <th>2017-05-01</th>\n",
       "      <td>0.0144</td>\n",
       "      <td>0.0148</td>\n",
       "      <td>0.0127</td>\n",
       "      <td>0.0077</td>\n",
       "      <td>0.0041</td>\n",
       "      <td>0.0145</td>\n",
       "    </tr>\n",
       "    <tr>\n",
       "      <th>2017-06-01</th>\n",
       "      <td>0.0144</td>\n",
       "      <td>0.0148</td>\n",
       "      <td>0.0127</td>\n",
       "      <td>0.0077</td>\n",
       "      <td>0.0041</td>\n",
       "      <td>0.0145</td>\n",
       "    </tr>\n",
       "  </tbody>\n",
       "</table>\n",
       "</div>"
      ],
      "text/plain": [
       "0           CAPITAL  CUPRUM  HABITAT  MODELO  PLANVITAL  PROVIDA\n",
       "date                                                            \n",
       "2016-07-01   0.0144  0.0148   0.0127  0.0077     0.0047   0.0154\n",
       "2016-08-01   0.0144  0.0148   0.0127  0.0077     0.0041   0.0154\n",
       "2016-09-01   0.0144  0.0148   0.0127  0.0077     0.0041   0.0154\n",
       "2016-10-01   0.0144  0.0148   0.0127  0.0077     0.0041   0.0154\n",
       "2016-11-01   0.0144  0.0148   0.0127  0.0077     0.0041   0.0154\n",
       "2016-12-01   0.0144  0.0148   0.0127  0.0077     0.0041   0.0154\n",
       "2017-01-01   0.0144  0.0148   0.0127  0.0077     0.0041   0.0154\n",
       "2017-02-01   0.0144  0.0148   0.0127  0.0077     0.0041   0.0154\n",
       "2017-03-01   0.0144  0.0148   0.0127  0.0077     0.0041   0.0154\n",
       "2017-04-01   0.0144  0.0148   0.0127  0.0077     0.0041   0.0154\n",
       "2017-05-01   0.0144  0.0148   0.0127  0.0077     0.0041   0.0145\n",
       "2017-06-01   0.0144  0.0148   0.0127  0.0077     0.0041   0.0145"
      ]
     },
     "execution_count": 4,
     "metadata": {},
     "output_type": "execute_result"
    }
   ],
   "source": [
    "df.tail(12)"
   ]
  },
  {
   "cell_type": "code",
   "execution_count": 5,
   "metadata": {},
   "outputs": [
    {
     "data": {
      "text/plain": [
       "<matplotlib.axes._subplots.AxesSubplot at 0xa4f8320>"
      ]
     },
     "execution_count": 5,
     "metadata": {},
     "output_type": "execute_result"
    },
    {
     "data": {
      "image/png": "[encoded data removed]",
      "text/plain": [
       "<matplotlib.figure.Figure at 0xa4ea898>"
      ]
     },
     "metadata": {},
     "output_type": "display_data"
    }
   ],
   "source": [
    "df.plot()"
   ]
  },
  {
   "cell_type": "code",
   "execution_count": null,
   "metadata": {},
   "outputs": [],
   "source": []
  }
 ],
 "metadata": {
  "kernelspec": {
   "display_name": "Python 2",
   "language": "python",
   "name": "python2"
  },
  "language_info": {
   "codemirror_mode": {
    "name": "ipython",
    "version": 2
   },
   "file_extension": ".py",
   "mimetype": "text/x-python",
   "name": "python",
   "nbconvert_exporter": "python",
   "pygments_lexer": "ipython2",
   "version": "2.7.13"
  }
 },
 "nbformat": 4,
 "nbformat_minor": 1
}
